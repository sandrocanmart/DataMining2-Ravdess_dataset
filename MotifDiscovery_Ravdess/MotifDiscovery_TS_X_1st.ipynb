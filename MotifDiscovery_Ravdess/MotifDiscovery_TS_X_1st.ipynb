{
  "cells": [
    {
      "cell_type": "code",
      "execution_count": null,
      "id": "65494b68",
      "metadata": {
        "id": "65494b68"
      },
      "outputs": [],
      "source": [
        "%matplotlib inline\n",
        "\n",
        "import numpy as np\n",
        "import pandas as pd\n",
        "import matplotlib.pyplot as plt\n",
        "\n",
        "from collections import defaultdict"
      ]
    },
    {
      "cell_type": "code",
      "execution_count": null,
      "id": "dde5e944",
      "metadata": {
        "scrolled": true,
        "id": "dde5e944",
        "outputId": "15f1710b-59ab-4520-d0b4-049b3fcd6c24"
      },
      "outputs": [
        {
          "name": "stdout",
          "output_type": "stream",
          "text": [
            "Requirement already satisfied: matrixprofile in c:\\users\\besso\\links\\anaconda 3.5\\lib\\site-packages (1.1.10)\n",
            "Requirement already satisfied: numpy>=1.16.2 in c:\\users\\besso\\links\\anaconda 3.5\\lib\\site-packages (from matrixprofile) (1.21.6)\n",
            "Requirement already satisfied: matplotlib>=3.0.3 in c:\\users\\besso\\links\\anaconda 3.5\\lib\\site-packages (from matrixprofile) (3.5.1)\n",
            "Requirement already satisfied: protobuf==3.11.2 in c:\\users\\besso\\links\\anaconda 3.5\\lib\\site-packages (from matrixprofile) (3.11.2)\n",
            "Requirement already satisfied: scipy<2.0.0,>=1.3.2 in c:\\users\\besso\\links\\anaconda 3.5\\lib\\site-packages (from matrixprofile) (1.7.3)\n",
            "Requirement already satisfied: six>=1.9 in c:\\users\\besso\\links\\anaconda 3.5\\lib\\site-packages (from protobuf==3.11.2->matrixprofile) (1.16.0)\n",
            "Requirement already satisfied: setuptools in c:\\users\\besso\\links\\anaconda 3.5\\lib\\site-packages (from protobuf==3.11.2->matrixprofile) (61.2.0)\n",
            "Requirement already satisfied: pillow>=6.2.0 in c:\\users\\besso\\links\\anaconda 3.5\\lib\\site-packages (from matplotlib>=3.0.3->matrixprofile) (9.0.1)\n",
            "Requirement already satisfied: cycler>=0.10 in c:\\users\\besso\\links\\anaconda 3.5\\lib\\site-packages (from matplotlib>=3.0.3->matrixprofile) (0.11.0)\n",
            "Requirement already satisfied: python-dateutil>=2.7 in c:\\users\\besso\\links\\anaconda 3.5\\lib\\site-packages (from matplotlib>=3.0.3->matrixprofile) (2.8.2)\n",
            "Requirement already satisfied: pyparsing>=2.2.1 in c:\\users\\besso\\links\\anaconda 3.5\\lib\\site-packages (from matplotlib>=3.0.3->matrixprofile) (3.0.4)\n",
            "Requirement already satisfied: packaging>=20.0 in c:\\users\\besso\\links\\anaconda 3.5\\lib\\site-packages (from matplotlib>=3.0.3->matrixprofile) (21.3)\n",
            "Requirement already satisfied: kiwisolver>=1.0.1 in c:\\users\\besso\\links\\anaconda 3.5\\lib\\site-packages (from matplotlib>=3.0.3->matrixprofile) (1.3.2)\n",
            "Requirement already satisfied: fonttools>=4.22.0 in c:\\users\\besso\\links\\anaconda 3.5\\lib\\site-packages (from matplotlib>=3.0.3->matrixprofile) (4.25.0)\n"
          ]
        }
      ],
      "source": [
        "!pip install matrixprofile"
      ]
    },
    {
      "cell_type": "code",
      "execution_count": null,
      "id": "b2d550d3",
      "metadata": {
        "id": "b2d550d3"
      },
      "outputs": [],
      "source": [
        "X = np.load('scaled_array_X_test.npy',allow_pickle= True)"
      ]
    },
    {
      "cell_type": "code",
      "execution_count": null,
      "id": "28262815",
      "metadata": {
        "id": "28262815",
        "outputId": "4f235a5c-e23a-4ba3-9a09-5eabae323534"
      },
      "outputs": [
        {
          "data": {
            "text/plain": [
              "array([-0.00079618, -0.00079618, -0.00079618, ..., -0.01732382,\n",
              "       -0.01732382, -0.01732382])"
            ]
          },
          "execution_count": 4,
          "metadata": {},
          "output_type": "execute_result"
        }
      ],
      "source": [
        "X[0]"
      ]
    },
    {
      "cell_type": "markdown",
      "source": [
        "Viene selezionata un record (**X_1STM**)che sia composto dalle seguenti caratteristiche:\n",
        "\n",
        "-attore --> 24 quindi donna\n",
        "\n",
        "-emozione --> calm\n",
        "\n",
        "-emotional intensity --> normal\n",
        "\n",
        "-statement--> kids...\n",
        "\n",
        "-repetition --> 1\n",
        "\n",
        "-vocal chanelle--> speech\n",
        "\n",
        "\n",
        "\n",
        "ed un secondo record (**X_2STM**):\n",
        "\n",
        "\n",
        "-attore --> 24 quindi donna\n",
        "\n",
        "-emozione --> calm\n",
        "\n",
        "-emotional intensity --> normal\n",
        "\n",
        "-statement--> kids...\n",
        "\n",
        "-repetition --> 2\n",
        "\n",
        "-vocal chanelle--> speech\n",
        "\n",
        "\n"
      ],
      "metadata": {
        "id": "M34axb-vGDBm"
      },
      "id": "M34axb-vGDBm"
    },
    {
      "cell_type": "code",
      "execution_count": null,
      "id": "4cd6c5aa",
      "metadata": {
        "id": "4cd6c5aa"
      },
      "outputs": [],
      "source": [
        "Y = pd.read_csv('RavdessAudioOnlyNumpy__Y_test.csv')"
      ]
    },
    {
      "cell_type": "code",
      "execution_count": null,
      "id": "8e32b325",
      "metadata": {
        "id": "8e32b325"
      },
      "outputs": [],
      "source": [
        "condition = (Y['actor'] == 24) & (Y['emotion'] == 'calm') & (Y['emotional_intensity']== 'normal') & (Y['statement'] == 'Kids are talking by the door') & (Y['vocal_channel']== 'speech')"
      ]
    },
    {
      "cell_type": "code",
      "execution_count": null,
      "id": "a8cbcab0",
      "metadata": {
        "id": "a8cbcab0",
        "outputId": "863db053-0119-40eb-d92c-94e6145e409c"
      },
      "outputs": [
        {
          "data": {
            "text/html": [
              "<div>\n",
              "<style scoped>\n",
              "    .dataframe tbody tr th:only-of-type {\n",
              "        vertical-align: middle;\n",
              "    }\n",
              "\n",
              "    .dataframe tbody tr th {\n",
              "        vertical-align: top;\n",
              "    }\n",
              "\n",
              "    .dataframe thead th {\n",
              "        text-align: right;\n",
              "    }\n",
              "</style>\n",
              "<table border=\"1\" class=\"dataframe\">\n",
              "  <thead>\n",
              "    <tr style=\"text-align: right;\">\n",
              "      <th></th>\n",
              "      <th>modality</th>\n",
              "      <th>vocal_channel</th>\n",
              "      <th>emotion</th>\n",
              "      <th>emotional_intensity</th>\n",
              "      <th>statement</th>\n",
              "      <th>repetition</th>\n",
              "      <th>actor</th>\n",
              "      <th>sex</th>\n",
              "      <th>filename</th>\n",
              "    </tr>\n",
              "  </thead>\n",
              "  <tbody>\n",
              "    <tr>\n",
              "      <th>524</th>\n",
              "      <td>audio-only</td>\n",
              "      <td>speech</td>\n",
              "      <td>calm</td>\n",
              "      <td>normal</td>\n",
              "      <td>Kids are talking by the door</td>\n",
              "      <td>1st</td>\n",
              "      <td>24</td>\n",
              "      <td>F</td>\n",
              "      <td>03-01-02-01-01-01-24.wav</td>\n",
              "    </tr>\n",
              "    <tr>\n",
              "      <th>525</th>\n",
              "      <td>audio-only</td>\n",
              "      <td>speech</td>\n",
              "      <td>calm</td>\n",
              "      <td>normal</td>\n",
              "      <td>Kids are talking by the door</td>\n",
              "      <td>2nd</td>\n",
              "      <td>24</td>\n",
              "      <td>F</td>\n",
              "      <td>03-01-02-01-01-02-24.wav</td>\n",
              "    </tr>\n",
              "  </tbody>\n",
              "</table>\n",
              "</div>"
            ],
            "text/plain": [
              "       modality vocal_channel emotion emotional_intensity  \\\n",
              "524  audio-only        speech    calm              normal   \n",
              "525  audio-only        speech    calm              normal   \n",
              "\n",
              "                        statement repetition  actor sex  \\\n",
              "524  Kids are talking by the door        1st     24   F   \n",
              "525  Kids are talking by the door        2nd     24   F   \n",
              "\n",
              "                     filename  \n",
              "524  03-01-02-01-01-01-24.wav  \n",
              "525  03-01-02-01-01-02-24.wav  "
            ]
          },
          "execution_count": 7,
          "metadata": {},
          "output_type": "execute_result"
        }
      ],
      "source": [
        "Y[condition]"
      ]
    },
    {
      "cell_type": "code",
      "execution_count": null,
      "id": "e145775f",
      "metadata": {
        "id": "e145775f"
      },
      "outputs": [],
      "source": [
        "X_1st = X[524]"
      ]
    },
    {
      "cell_type": "code",
      "execution_count": null,
      "id": "1220f054",
      "metadata": {
        "id": "1220f054"
      },
      "outputs": [],
      "source": [
        "X_2st = X[525]"
      ]
    },
    {
      "cell_type": "markdown",
      "source": [
        "Infatti si nota come l'onda audio vari che ci si trovi alla prima o alla seconda ripetizione"
      ],
      "metadata": {
        "id": "rYD0OZthGvND"
      },
      "id": "rYD0OZthGvND"
    },
    {
      "cell_type": "code",
      "execution_count": null,
      "id": "89cf25e9",
      "metadata": {
        "id": "89cf25e9",
        "outputId": "4622c54a-b713-43d8-fb5e-93ff6a60c3db"
      },
      "outputs": [
        {
          "data": {
            "image/png": "[encoded data removed]",
            "text/plain": [
              "<Figure size 432x288 with 1 Axes>"
            ]
          },
          "metadata": {
            "needs_background": "light"
          },
          "output_type": "display_data"
        }
      ],
      "source": [
        "plt.plot(X_1st)\n",
        "plt.show()"
      ]
    },
    {
      "cell_type": "code",
      "execution_count": null,
      "id": "66d96eee",
      "metadata": {
        "id": "66d96eee",
        "outputId": "dd78fcf8-84b4-47dd-f37f-3c6f6a264ee0"
      },
      "outputs": [
        {
          "data": {
            "image/png": "[encoded data removed]",
            "text/plain": [
              "<Figure size 432x288 with 1 Axes>"
            ]
          },
          "metadata": {
            "needs_background": "light"
          },
          "output_type": "display_data"
        }
      ],
      "source": [
        "plt.plot(X_2st)\n",
        "plt.show()"
      ]
    },
    {
      "cell_type": "code",
      "source": [],
      "metadata": {
        "id": "NRN37LSoHIqT"
      },
      "id": "NRN37LSoHIqT",
      "execution_count": null,
      "outputs": []
    },
    {
      "cell_type": "markdown",
      "source": [
        "Viene selezionata un record (**X_1STM**)che sia composto dalle seguenti caratteristiche:\n",
        "\n",
        "-attore --> 23 quindi uomo\n",
        "\n",
        "-emozione --> calm\n",
        "\n",
        "-emotional intensity --> normal\n",
        "\n",
        "-statement--> kids...\n",
        "\n",
        "-repetition --> 1\n",
        "\n",
        "-vocal chanelle--> speech\n",
        "\n",
        "\n",
        "\n",
        "ed un secondo record (**X_2STM**):\n",
        "\n",
        "\n",
        "-attore --> 23 quindi uomo\n",
        "\n",
        "-emozione --> calm\n",
        "\n",
        "-emotional intensity --> normal\n",
        "\n",
        "-statement--> kids...\n",
        "\n",
        "-repetition --> 2\n",
        "\n",
        "-vocal chanelle--> speech\n",
        "\n",
        "\n",
        "\n",
        "\n",
        "QUINDI I DUE DIFFERISCONO PER ***RIPETIZIONE***"
      ],
      "metadata": {
        "id": "XTp7_gCJHI7Q"
      },
      "id": "XTp7_gCJHI7Q"
    },
    {
      "cell_type": "code",
      "execution_count": null,
      "id": "cda16b19",
      "metadata": {
        "id": "cda16b19"
      },
      "outputs": [],
      "source": [
        "condition1 = (Y['actor'] == 23) & (Y['emotion'] == 'calm') & (Y['emotional_intensity']== 'normal') & (Y['statement'] == 'Kids are talking by the door') & (Y['vocal_channel']== 'speech')"
      ]
    },
    {
      "cell_type": "code",
      "execution_count": null,
      "id": "2fa42524",
      "metadata": {
        "id": "2fa42524",
        "outputId": "b46e24a1-733e-4f05-8250-af2b1c78babc"
      },
      "outputs": [
        {
          "data": {
            "text/html": [
              "<div>\n",
              "<style scoped>\n",
              "    .dataframe tbody tr th:only-of-type {\n",
              "        vertical-align: middle;\n",
              "    }\n",
              "\n",
              "    .dataframe tbody tr th {\n",
              "        vertical-align: top;\n",
              "    }\n",
              "\n",
              "    .dataframe thead th {\n",
              "        text-align: right;\n",
              "    }\n",
              "</style>\n",
              "<table border=\"1\" class=\"dataframe\">\n",
              "  <thead>\n",
              "    <tr style=\"text-align: right;\">\n",
              "      <th></th>\n",
              "      <th>modality</th>\n",
              "      <th>vocal_channel</th>\n",
              "      <th>emotion</th>\n",
              "      <th>emotional_intensity</th>\n",
              "      <th>statement</th>\n",
              "      <th>repetition</th>\n",
              "      <th>actor</th>\n",
              "      <th>sex</th>\n",
              "      <th>filename</th>\n",
              "    </tr>\n",
              "  </thead>\n",
              "  <tbody>\n",
              "    <tr>\n",
              "      <th>420</th>\n",
              "      <td>audio-only</td>\n",
              "      <td>speech</td>\n",
              "      <td>calm</td>\n",
              "      <td>normal</td>\n",
              "      <td>Kids are talking by the door</td>\n",
              "      <td>1st</td>\n",
              "      <td>23</td>\n",
              "      <td>M</td>\n",
              "      <td>03-01-02-01-01-01-23.wav</td>\n",
              "    </tr>\n",
              "    <tr>\n",
              "      <th>421</th>\n",
              "      <td>audio-only</td>\n",
              "      <td>speech</td>\n",
              "      <td>calm</td>\n",
              "      <td>normal</td>\n",
              "      <td>Kids are talking by the door</td>\n",
              "      <td>2nd</td>\n",
              "      <td>23</td>\n",
              "      <td>M</td>\n",
              "      <td>03-01-02-01-01-02-23.wav</td>\n",
              "    </tr>\n",
              "  </tbody>\n",
              "</table>\n",
              "</div>"
            ],
            "text/plain": [
              "       modality vocal_channel emotion emotional_intensity  \\\n",
              "420  audio-only        speech    calm              normal   \n",
              "421  audio-only        speech    calm              normal   \n",
              "\n",
              "                        statement repetition  actor sex  \\\n",
              "420  Kids are talking by the door        1st     23   M   \n",
              "421  Kids are talking by the door        2nd     23   M   \n",
              "\n",
              "                     filename  \n",
              "420  03-01-02-01-01-01-23.wav  \n",
              "421  03-01-02-01-01-02-23.wav  "
            ]
          },
          "execution_count": 13,
          "metadata": {},
          "output_type": "execute_result"
        }
      ],
      "source": [
        "Y[condition1]"
      ]
    },
    {
      "cell_type": "code",
      "execution_count": null,
      "id": "8c16b378",
      "metadata": {
        "id": "8c16b378"
      },
      "outputs": [],
      "source": [
        "X_1stm = X[420]"
      ]
    },
    {
      "cell_type": "code",
      "execution_count": null,
      "id": "34f8a596",
      "metadata": {
        "id": "34f8a596"
      },
      "outputs": [],
      "source": [
        "X_2stm = X[421]"
      ]
    },
    {
      "cell_type": "code",
      "execution_count": null,
      "id": "797a3d26",
      "metadata": {
        "id": "797a3d26",
        "outputId": "b2cd9ebf-00f1-447a-b835-eab3e1450349",
        "colab": {
          "base_uri": "https://localhost:8080/",
          "height": 183
        }
      },
      "outputs": [
        {
          "output_type": "error",
          "ename": "NameError",
          "evalue": "ignored",
          "traceback": [
            "\u001b[0;31m---------------------------------------------------------------------------\u001b[0m",
            "\u001b[0;31mNameError\u001b[0m                                 Traceback (most recent call last)",
            "\u001b[0;32m<ipython-input-1-94792c8bd879>\u001b[0m in \u001b[0;36m<cell line: 1>\u001b[0;34m()\u001b[0m\n\u001b[0;32m----> 1\u001b[0;31m \u001b[0mplt\u001b[0m\u001b[0;34m.\u001b[0m\u001b[0mplot\u001b[0m\u001b[0;34m(\u001b[0m\u001b[0mX_1stm\u001b[0m\u001b[0;34m)\u001b[0m\u001b[0;34m\u001b[0m\u001b[0;34m\u001b[0m\u001b[0m\n\u001b[0m\u001b[1;32m      2\u001b[0m \u001b[0mplt\u001b[0m\u001b[0;34m.\u001b[0m\u001b[0mshow\u001b[0m\u001b[0;34m(\u001b[0m\u001b[0;34m)\u001b[0m\u001b[0;34m\u001b[0m\u001b[0;34m\u001b[0m\u001b[0m\n",
            "\u001b[0;31mNameError\u001b[0m: name 'plt' is not defined"
          ]
        }
      ],
      "source": [
        "plt.plot(X_1stm)\n",
        "plt.show()"
      ]
    },
    {
      "cell_type": "code",
      "execution_count": null,
      "id": "f40907f6",
      "metadata": {
        "id": "f40907f6",
        "outputId": "2c20108d-56f4-4789-9ee1-2b3ea5ecc0c1"
      },
      "outputs": [
        {
          "data": {
            "image/png": "[encoded data removed]",
            "text/plain": [
              "<Figure size 432x288 with 1 Axes>"
            ]
          },
          "metadata": {
            "needs_background": "light"
          },
          "output_type": "display_data"
        }
      ],
      "source": [
        "plt.plot(X_2stm)\n",
        "plt.show()"
      ]
    },
    {
      "cell_type": "code",
      "execution_count": null,
      "id": "862ac5c0",
      "metadata": {
        "id": "862ac5c0",
        "outputId": "b09595d9-5936-405d-f224-8ceeee299e31"
      },
      "outputs": [
        {
          "name": "stdout",
          "output_type": "stream",
          "text": [
            "Requirement already satisfied: stumpy in c:\\users\\besso\\links\\anaconda 3.5\\lib\\site-packages (1.11.1)\n",
            "Requirement already satisfied: scipy>=1.5 in c:\\users\\besso\\links\\anaconda 3.5\\lib\\site-packages (from stumpy) (1.7.3)\n",
            "Requirement already satisfied: numpy>=1.17 in c:\\users\\besso\\links\\anaconda 3.5\\lib\\site-packages (from stumpy) (1.21.6)\n",
            "Requirement already satisfied: numba>=0.54 in c:\\users\\besso\\links\\anaconda 3.5\\lib\\site-packages (from stumpy) (0.55.1)\n",
            "Requirement already satisfied: setuptools in c:\\users\\besso\\links\\anaconda 3.5\\lib\\site-packages (from numba>=0.54->stumpy) (61.2.0)\n",
            "Requirement already satisfied: llvmlite<0.39,>=0.38.0rc1 in c:\\users\\besso\\links\\anaconda 3.5\\lib\\site-packages (from numba>=0.54->stumpy) (0.38.0)\n"
          ]
        }
      ],
      "source": [
        "!pip install stumpy\n"
      ]
    },
    {
      "cell_type": "code",
      "execution_count": null,
      "id": "454603e1",
      "metadata": {
        "id": "454603e1"
      },
      "outputs": [],
      "source": [
        "import stumpy"
      ]
    },
    {
      "cell_type": "code",
      "execution_count": null,
      "id": "2c1182d7",
      "metadata": {
        "id": "2c1182d7"
      },
      "outputs": [],
      "source": [
        "from tslearn.piecewise import PiecewiseAggregateApproximation"
      ]
    },
    {
      "cell_type": "code",
      "execution_count": null,
      "id": "56797802",
      "metadata": {
        "id": "56797802",
        "outputId": "be3dbaac-b7b4-4d97-bbda-af98bc95fd7f"
      },
      "outputs": [
        {
          "name": "stderr",
          "output_type": "stream",
          "text": [
            "C:\\Users\\besso\\Links\\anaconda 3.5\\lib\\site-packages\\tslearn\\utils\\utils.py:88: UserWarning: 2-Dimensional data passed. Assuming these are 1 1-dimensional timeseries\n",
            "  warnings.warn('2-Dimensional data passed. Assuming these are '\n"
          ]
        }
      ],
      "source": [
        "paa = PiecewiseAggregateApproximation(n_segments=1000)\n",
        "paa_transformed = paa.fit_transform([X_1stm])"
      ]
    },
    {
      "cell_type": "code",
      "execution_count": null,
      "id": "5cc31b6c",
      "metadata": {
        "id": "5cc31b6c"
      },
      "outputs": [],
      "source": [
        "X_1st= np.squeeze(paa_transformed[0].T)"
      ]
    },
    {
      "cell_type": "code",
      "execution_count": null,
      "id": "f6c2448c",
      "metadata": {
        "id": "f6c2448c",
        "outputId": "3940221c-1ef5-4e73-ed20-f4430b914b90"
      },
      "outputs": [
        {
          "data": {
            "image/png": "[encoded data removed]",
            "text/plain": [
              "<Figure size 432x288 with 1 Axes>"
            ]
          },
          "metadata": {
            "needs_background": "light"
          },
          "output_type": "display_data"
        }
      ],
      "source": [
        "plt.plot(X_1st)\n",
        "plt.show()"
      ]
    },
    {
      "cell_type": "code",
      "execution_count": null,
      "id": "eedc8232",
      "metadata": {
        "id": "eedc8232",
        "outputId": "847cf647-134e-4028-c5fa-59e8eabf2642"
      },
      "outputs": [
        {
          "data": {
            "text/plain": [
              "(1000,)"
            ]
          },
          "execution_count": 24,
          "metadata": {},
          "output_type": "execute_result"
        }
      ],
      "source": [
        "X_1st.shape"
      ]
    },
    {
      "cell_type": "code",
      "execution_count": null,
      "id": "c0d55d54",
      "metadata": {
        "id": "c0d55d54"
      },
      "outputs": [],
      "source": [
        "columns = ['array']\n",
        "df = pd.DataFrame(X_1st, columns= columns)"
      ]
    },
    {
      "cell_type": "code",
      "execution_count": null,
      "id": "e03c11dc",
      "metadata": {
        "id": "e03c11dc"
      },
      "outputs": [],
      "source": [
        "df1 = df.drop(index=df.index[:250].union(df.index[800:]))\n",
        "new_indices = range(len(df))\n",
        "df1 = df.rename(index=dict(zip(df1.index, new_indices)))"
      ]
    },
    {
      "cell_type": "code",
      "execution_count": null,
      "id": "b8a59f6c",
      "metadata": {
        "id": "b8a59f6c"
      },
      "outputs": [],
      "source": [
        "df1 = df1['array'].values"
      ]
    },
    {
      "cell_type": "code",
      "execution_count": null,
      "id": "f24d7d89",
      "metadata": {
        "id": "f24d7d89"
      },
      "outputs": [],
      "source": [
        "df1= df1[250:851]"
      ]
    },
    {
      "cell_type": "code",
      "execution_count": null,
      "id": "921ee59b",
      "metadata": {
        "id": "921ee59b"
      },
      "outputs": [],
      "source": []
    },
    {
      "cell_type": "code",
      "execution_count": null,
      "id": "897a3e01",
      "metadata": {
        "id": "897a3e01",
        "outputId": "53afacf3-da97-4310-ff08-38bdaff060ae"
      },
      "outputs": [
        {
          "name": "stdout",
          "output_type": "stream",
          "text": [
            "Requirement already satisfied: matrixprofile in c:\\users\\besso\\links\\anaconda 3.5\\lib\\site-packages (1.1.10)\n",
            "Requirement already satisfied: numpy>=1.16.2 in c:\\users\\besso\\links\\anaconda 3.5\\lib\\site-packages (from matrixprofile) (1.21.6)\n",
            "Requirement already satisfied: matplotlib>=3.0.3 in c:\\users\\besso\\links\\anaconda 3.5\\lib\\site-packages (from matrixprofile) (3.5.1)\n",
            "Requirement already satisfied: protobuf==3.11.2 in c:\\users\\besso\\links\\anaconda 3.5\\lib\\site-packages (from matrixprofile) (3.11.2)\n",
            "Requirement already satisfied: scipy<2.0.0,>=1.3.2 in c:\\users\\besso\\links\\anaconda 3.5\\lib\\site-packages (from matrixprofile) (1.7.3)\n",
            "Requirement already satisfied: setuptools in c:\\users\\besso\\links\\anaconda 3.5\\lib\\site-packages (from protobuf==3.11.2->matrixprofile) (61.2.0)\n",
            "Requirement already satisfied: six>=1.9 in c:\\users\\besso\\links\\anaconda 3.5\\lib\\site-packages (from protobuf==3.11.2->matrixprofile) (1.16.0)\n",
            "Requirement already satisfied: cycler>=0.10 in c:\\users\\besso\\links\\anaconda 3.5\\lib\\site-packages (from matplotlib>=3.0.3->matrixprofile) (0.11.0)\n",
            "Requirement already satisfied: python-dateutil>=2.7 in c:\\users\\besso\\links\\anaconda 3.5\\lib\\site-packages (from matplotlib>=3.0.3->matrixprofile) (2.8.2)\n",
            "Requirement already satisfied: pyparsing>=2.2.1 in c:\\users\\besso\\links\\anaconda 3.5\\lib\\site-packages (from matplotlib>=3.0.3->matrixprofile) (3.0.4)\n",
            "Requirement already satisfied: pillow>=6.2.0 in c:\\users\\besso\\links\\anaconda 3.5\\lib\\site-packages (from matplotlib>=3.0.3->matrixprofile) (9.0.1)\n",
            "Requirement already satisfied: fonttools>=4.22.0 in c:\\users\\besso\\links\\anaconda 3.5\\lib\\site-packages (from matplotlib>=3.0.3->matrixprofile) (4.25.0)\n",
            "Requirement already satisfied: kiwisolver>=1.0.1 in c:\\users\\besso\\links\\anaconda 3.5\\lib\\site-packages (from matplotlib>=3.0.3->matrixprofile) (1.3.2)\n",
            "Requirement already satisfied: packaging>=20.0 in c:\\users\\besso\\links\\anaconda 3.5\\lib\\site-packages (from matplotlib>=3.0.3->matrixprofile) (21.3)\n"
          ]
        }
      ],
      "source": [
        "!pip install matrixprofile"
      ]
    },
    {
      "cell_type": "code",
      "execution_count": null,
      "id": "1fd05023",
      "metadata": {
        "id": "1fd05023"
      },
      "outputs": [],
      "source": [
        "from matrixprofile import *\n",
        "import matrixprofile as mpx"
      ]
    },
    {
      "cell_type": "code",
      "execution_count": null,
      "id": "502a5861",
      "metadata": {
        "id": "502a5861",
        "outputId": "eddae79c-555e-4570-a4ff-c193f3e4907e"
      },
      "outputs": [
        {
          "name": "stdout",
          "output_type": "stream",
          "text": [
            "Requirement already satisfied: mass_ts in c:\\users\\besso\\links\\anaconda 3.5\\lib\\site-packages (0.1.4)\n",
            "Requirement already satisfied: numpy in c:\\users\\besso\\links\\anaconda 3.5\\lib\\site-packages (from mass_ts) (1.21.6)\n"
          ]
        }
      ],
      "source": [
        "!pip install mass_ts"
      ]
    },
    {
      "cell_type": "code",
      "execution_count": null,
      "id": "e6695987",
      "metadata": {
        "id": "e6695987",
        "outputId": "244bbefc-622e-4b69-cca3-cdb00d499cac"
      },
      "outputs": [
        {
          "name": "stdout",
          "output_type": "stream",
          "text": [
            "Requirement already satisfied: matrixprofile-ts in c:\\users\\besso\\links\\anaconda 3.5\\lib\\site-packages (0.0.9)\n",
            "Requirement already satisfied: numpy>=1.11.3 in c:\\users\\besso\\links\\anaconda 3.5\\lib\\site-packages (from matrixprofile-ts) (1.21.6)\n"
          ]
        }
      ],
      "source": [
        "!pip install matrixprofile-ts"
      ]
    },
    {
      "cell_type": "code",
      "execution_count": null,
      "id": "147444ed",
      "metadata": {
        "id": "147444ed"
      },
      "outputs": [],
      "source": [
        "from matrixprofile import *"
      ]
    },
    {
      "cell_type": "code",
      "execution_count": null,
      "id": "f6c91efc",
      "metadata": {
        "id": "f6c91efc",
        "outputId": "38744622-e608-47ab-8f6e-fa6b02fe4fc7"
      },
      "outputs": [
        {
          "data": {
            "image/png": "[encoded data removed]",
            "text/plain": [
              "<Figure size 432x288 with 1 Axes>"
            ]
          },
          "metadata": {
            "needs_background": "light"
          },
          "output_type": "display_data"
        }
      ],
      "source": [
        "w = 25\n",
        "mp, mpi = matrixProfile.stomp(df1, w)\n",
        "\n",
        "plt.plot(mp)\n",
        "plt.show()"
      ]
    },
    {
      "cell_type": "code",
      "execution_count": null,
      "id": "9ef4effe",
      "metadata": {
        "id": "9ef4effe"
      },
      "outputs": [],
      "source": [
        "mo, mod  = motifs.motifs(df1, (mp, mpi), max_motifs=5)"
      ]
    },
    {
      "cell_type": "code",
      "execution_count": null,
      "id": "ca3c83cb",
      "metadata": {
        "id": "ca3c83cb",
        "outputId": "3d452f07-d2ba-44b6-9bbd-6af8154111fa"
      },
      "outputs": [
        {
          "data": {
            "text/plain": [
              "[[0, 108, 314],\n",
              " [347, 378, 479],\n",
              " [219, 243, 439, 458],\n",
              " [148, 187, 205],\n",
              " [327, 425]]"
            ]
          },
          "execution_count": 36,
          "metadata": {},
          "output_type": "execute_result"
        }
      ],
      "source": [
        "mo\n"
      ]
    },
    {
      "cell_type": "code",
      "execution_count": null,
      "id": "de99ca8a",
      "metadata": {
        "id": "de99ca8a",
        "outputId": "991c167a-c032-4a6b-e78b-9edc237b78bc"
      },
      "outputs": [
        {
          "data": {
            "text/plain": [
              "[1.1202035014556484,\n",
              " 1.1750646996164784,\n",
              " 1.4468433111181473,\n",
              " 1.761173516225091,\n",
              " 1.8253730979454699]"
            ]
          },
          "execution_count": 37,
          "metadata": {},
          "output_type": "execute_result"
        }
      ],
      "source": [
        "mod"
      ]
    },
    {
      "cell_type": "code",
      "execution_count": null,
      "id": "9f31f228",
      "metadata": {
        "id": "9f31f228",
        "outputId": "2bbe089a-a838-4e20-dd37-3cdeecf8b1d3"
      },
      "outputs": [
        {
          "data": {
            "image/png": "[encoded data removed]",
            "text/plain": [
              "<Figure size 432x288 with 1 Axes>"
            ]
          },
          "metadata": {
            "needs_background": "light"
          },
          "output_type": "display_data"
        }
      ],
      "source": [
        "plt.plot(df1)\n",
        "colors = ['r', 'g', 'k', 'b', 'y'][:len(mo)]\n",
        "for m, d, c in zip(mo, mod, colors):\n",
        "    for i in m:\n",
        "        m_shape = df1[i:i+w]\n",
        "        plt.plot(range(i,i+w), m_shape, color=c, lw=3)\n",
        "\n",
        "plt.show()"
      ]
    },
    {
      "cell_type": "code",
      "execution_count": null,
      "id": "9189ec57",
      "metadata": {
        "id": "9189ec57",
        "outputId": "7cddb26d-2946-4f0b-bd05-7fd19243c12b"
      },
      "outputs": [
        {
          "data": {
            "image/png": "[encoded data removed]",
            "text/plain": [
              "<Figure size 432x288 with 1 Axes>"
            ]
          },
          "metadata": {
            "needs_background": "light"
          },
          "output_type": "display_data"
        },
        {
          "data": {
            "image/png": "[encoded data removed]",
            "text/plain": [
              "<Figure size 432x288 with 1 Axes>"
            ]
          },
          "metadata": {
            "needs_background": "light"
          },
          "output_type": "display_data"
        },
        {
          "data": {
            "image/png": "[encoded data removed]",
            "text/plain": [
              "<Figure size 432x288 with 1 Axes>"
            ]
          },
          "metadata": {
            "needs_background": "light"
          },
          "output_type": "display_data"
        },
        {
          "data": {
            "image/png": "[encoded data removed]",
            "text/plain": [
              "<Figure size 432x288 with 1 Axes>"
            ]
          },
          "metadata": {
            "needs_background": "light"
          },
          "output_type": "display_data"
        },
        {
          "data": {
            "image/png": "[encoded data removed]",
            "text/plain": [
              "<Figure size 432x288 with 1 Axes>"
            ]
          },
          "metadata": {
            "needs_background": "light"
          },
          "output_type": "display_data"
        }
      ],
      "source": [
        "for m, d, c in zip(mo, mod, colors):\n",
        "    for i in m:\n",
        "        m_shape = df1[i:i+w]\n",
        "        plt.plot(range(i,i+w), m_shape, color=c, lw=3)\n",
        "    plt.show()"
      ]
    },
    {
      "cell_type": "code",
      "execution_count": null,
      "id": "2c9e5d32",
      "metadata": {
        "id": "2c9e5d32"
      },
      "outputs": [],
      "source": [
        "from matrixprofile.discords import discords"
      ]
    },
    {
      "cell_type": "code",
      "execution_count": null,
      "id": "45fb1144",
      "metadata": {
        "id": "45fb1144"
      },
      "outputs": [],
      "source": [
        "anoms = discords(mp, ex_zone=20, k=5)"
      ]
    },
    {
      "cell_type": "code",
      "execution_count": null,
      "id": "a3a0b736",
      "metadata": {
        "id": "a3a0b736",
        "outputId": "ef592e79-1915-4c56-9efb-e23977f8bdaa"
      },
      "outputs": [
        {
          "data": {
            "image/png": "[encoded data removed]",
            "text/plain": [
              "<Figure size 432x288 with 1 Axes>"
            ]
          },
          "metadata": {
            "needs_background": "light"
          },
          "output_type": "display_data"
        }
      ],
      "source": [
        "plt.plot(df1)\n",
        "colors = ['r', 'g', 'k', 'b', 'y'][:len(mo)]\n",
        "for a, c in zip(anoms, colors):\n",
        "    a_shape = df1[a:a+w]\n",
        "    plt.plot(range(a, a+w), a_shape, color=c, lw=3)\n",
        "\n",
        "plt.show()"
      ]
    },
    {
      "cell_type": "code",
      "execution_count": null,
      "id": "6b931f06",
      "metadata": {
        "id": "6b931f06"
      },
      "outputs": [],
      "source": []
    }
  ],
  "metadata": {
    "kernelspec": {
      "display_name": "Python 3 (ipykernel)",
      "language": "python",
      "name": "python3"
    },
    "language_info": {
      "codemirror_mode": {
        "name": "ipython",
        "version": 3
      },
      "file_extension": ".py",
      "mimetype": "text/x-python",
      "name": "python",
      "nbconvert_exporter": "python",
      "pygments_lexer": "ipython3",
      "version": "3.9.12"
    },
    "colab": {
      "provenance": []
    }
  },
  "nbformat": 4,
  "nbformat_minor": 5
}